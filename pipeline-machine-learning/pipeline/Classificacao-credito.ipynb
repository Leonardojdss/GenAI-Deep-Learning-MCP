{
 "cells": [
  {
   "cell_type": "code",
   "execution_count": 1,
   "id": "6b74478d",
   "metadata": {},
   "outputs": [],
   "source": [
    "# !pip install pandas\n",
    "# !pip install numpy\n",
    "# !pip install matplotlib\n",
    "# !pip install seaborn\n",
    "# !pip install scikit-learn"
   ]
  },
  {
   "cell_type": "code",
   "execution_count": 2,
   "id": "4843766c",
   "metadata": {},
   "outputs": [],
   "source": [
    "import joblib\n",
    "import os\n",
    "import pandas as pd #leitura do dataset\n",
    "import matplotlib.pyplot as plt #visualização\n",
    "import numpy as np #modelagem\n",
    "from sklearn.preprocessing import LabelEncoder #Processamento\n",
    "from sklearn.model_selection import train_test_split #separar o dataset de treino e teste\n",
    "from sklearn.metrics import confusion_matrix #medir métrica\n",
    "from sklearn.metrics import classification_report #medir métrica\n",
    "from sklearn.ensemble import RandomForestClassifier"
   ]
  },
  {
   "cell_type": "code",
   "execution_count": 3,
   "id": "1d3a2d0a",
   "metadata": {},
   "outputs": [
    {
     "name": "stdout",
     "output_type": "stream",
     "text": [
      "<class 'pandas.core.frame.DataFrame'>\n"
     ]
    },
    {
     "data": {
      "application/vnd.microsoft.datawrangler.viewer.v0+json": {
       "columns": [
        {
         "name": "index",
         "rawType": "int64",
         "type": "integer"
        },
        {
         "name": "person_age",
         "rawType": "int64",
         "type": "integer"
        },
        {
         "name": "person_income",
         "rawType": "int64",
         "type": "integer"
        },
        {
         "name": "person_home_ownership",
         "rawType": "object",
         "type": "string"
        },
        {
         "name": "person_emp_length",
         "rawType": "float64",
         "type": "float"
        },
        {
         "name": "loan_intent",
         "rawType": "object",
         "type": "string"
        },
        {
         "name": "loan_amnt",
         "rawType": "int64",
         "type": "integer"
        },
        {
         "name": "loan_percent_income",
         "rawType": "float64",
         "type": "float"
        },
        {
         "name": "cb_person_default_on_file",
         "rawType": "object",
         "type": "string"
        }
       ],
       "ref": "0ec99432-fc90-4cfa-852e-d32fb237f48e",
       "rows": [
        [
         "0",
         "22",
         "59000",
         "RENT",
         "123.0",
         "PERSONAL",
         "35000",
         "0.59",
         "Y"
        ],
        [
         "1",
         "21",
         "9600",
         "OWN",
         "5.0",
         "EDUCATION",
         "1000",
         "0.1",
         "N"
        ],
        [
         "2",
         "25",
         "9600",
         "MORTGAGE",
         "1.0",
         "MEDICAL",
         "5500",
         "0.57",
         "N"
        ],
        [
         "3",
         "23",
         "65500",
         "RENT",
         "4.0",
         "MEDICAL",
         "35000",
         "0.53",
         "N"
        ],
        [
         "4",
         "24",
         "54400",
         "RENT",
         "8.0",
         "MEDICAL",
         "35000",
         "0.55",
         "Y"
        ]
       ],
       "shape": {
        "columns": 8,
        "rows": 5
       }
      },
      "text/html": [
       "<div>\n",
       "<style scoped>\n",
       "    .dataframe tbody tr th:only-of-type {\n",
       "        vertical-align: middle;\n",
       "    }\n",
       "\n",
       "    .dataframe tbody tr th {\n",
       "        vertical-align: top;\n",
       "    }\n",
       "\n",
       "    .dataframe thead th {\n",
       "        text-align: right;\n",
       "    }\n",
       "</style>\n",
       "<table border=\"1\" class=\"dataframe\">\n",
       "  <thead>\n",
       "    <tr style=\"text-align: right;\">\n",
       "      <th></th>\n",
       "      <th>person_age</th>\n",
       "      <th>person_income</th>\n",
       "      <th>person_home_ownership</th>\n",
       "      <th>person_emp_length</th>\n",
       "      <th>loan_intent</th>\n",
       "      <th>loan_amnt</th>\n",
       "      <th>loan_percent_income</th>\n",
       "      <th>cb_person_default_on_file</th>\n",
       "    </tr>\n",
       "  </thead>\n",
       "  <tbody>\n",
       "    <tr>\n",
       "      <th>0</th>\n",
       "      <td>22</td>\n",
       "      <td>59000</td>\n",
       "      <td>RENT</td>\n",
       "      <td>123.0</td>\n",
       "      <td>PERSONAL</td>\n",
       "      <td>35000</td>\n",
       "      <td>0.59</td>\n",
       "      <td>Y</td>\n",
       "    </tr>\n",
       "    <tr>\n",
       "      <th>1</th>\n",
       "      <td>21</td>\n",
       "      <td>9600</td>\n",
       "      <td>OWN</td>\n",
       "      <td>5.0</td>\n",
       "      <td>EDUCATION</td>\n",
       "      <td>1000</td>\n",
       "      <td>0.10</td>\n",
       "      <td>N</td>\n",
       "    </tr>\n",
       "    <tr>\n",
       "      <th>2</th>\n",
       "      <td>25</td>\n",
       "      <td>9600</td>\n",
       "      <td>MORTGAGE</td>\n",
       "      <td>1.0</td>\n",
       "      <td>MEDICAL</td>\n",
       "      <td>5500</td>\n",
       "      <td>0.57</td>\n",
       "      <td>N</td>\n",
       "    </tr>\n",
       "    <tr>\n",
       "      <th>3</th>\n",
       "      <td>23</td>\n",
       "      <td>65500</td>\n",
       "      <td>RENT</td>\n",
       "      <td>4.0</td>\n",
       "      <td>MEDICAL</td>\n",
       "      <td>35000</td>\n",
       "      <td>0.53</td>\n",
       "      <td>N</td>\n",
       "    </tr>\n",
       "    <tr>\n",
       "      <th>4</th>\n",
       "      <td>24</td>\n",
       "      <td>54400</td>\n",
       "      <td>RENT</td>\n",
       "      <td>8.0</td>\n",
       "      <td>MEDICAL</td>\n",
       "      <td>35000</td>\n",
       "      <td>0.55</td>\n",
       "      <td>Y</td>\n",
       "    </tr>\n",
       "  </tbody>\n",
       "</table>\n",
       "</div>"
      ],
      "text/plain": [
       "   person_age  person_income person_home_ownership  person_emp_length  \\\n",
       "0          22          59000                  RENT              123.0   \n",
       "1          21           9600                   OWN                5.0   \n",
       "2          25           9600              MORTGAGE                1.0   \n",
       "3          23          65500                  RENT                4.0   \n",
       "4          24          54400                  RENT                8.0   \n",
       "\n",
       "  loan_intent  loan_amnt  loan_percent_income cb_person_default_on_file  \n",
       "0    PERSONAL      35000                 0.59                         Y  \n",
       "1   EDUCATION       1000                 0.10                         N  \n",
       "2     MEDICAL       5500                 0.57                         N  \n",
       "3     MEDICAL      35000                 0.53                         N  \n",
       "4     MEDICAL      35000                 0.55                         Y  "
      ]
     },
     "execution_count": 3,
     "metadata": {},
     "output_type": "execute_result"
    }
   ],
   "source": [
    "# Read the dataset\n",
    "actual_path = os.getcwd()\n",
    "previous_path = os.path.dirname(actual_path)\n",
    "file_path = f\"{previous_path}/massa/credit_risk_dataset_original.csv\"\n",
    "dataset_credit_risk = pd.read_csv(file_path)\n",
    "\n",
    "# Display the first 5 rows of the dataset\n",
    "print(type(dataset_credit_risk))\n",
    "dataset_credit_risk.head(5)"
   ]
  },
  {
   "cell_type": "code",
   "execution_count": 4,
   "id": "08eff38e",
   "metadata": {},
   "outputs": [
    {
     "data": {
      "text/plain": [
       "'Dicionario dos dados'"
      ]
     },
     "execution_count": 4,
     "metadata": {},
     "output_type": "execute_result"
    }
   ],
   "source": [
    "\"\"\"Dicionario dos dados\"\"\"\n",
    "\n",
    "# person_age - Idade (X = Caracteristicas)\n",
    "# person_income - Renda Anual (X = Caracteristicas)\n",
    "# person_home_ownership - Casa própria (X = Caracteristicas)\n",
    "# person_emp_length - Duração do emprego (em anos) (X = Caracteristicas)\n",
    "# loan_intent - Intenção de empréstimo (X = Caracteristicas)\n",
    "# loan_amnt - Valor do empréstimo (X = Caracteristicas)\n",
    "# loan_percent_income - Percentual de renda (X = Caracteristicas)\n",
    "# cb_person_default_on_file - Inadimplência histórica (X = Caracteristicas)\n",
    "\n",
    "# Credit - Target (Y = Variável alvo) "
   ]
  },
  {
   "cell_type": "markdown",
   "id": "add785bc",
   "metadata": {},
   "source": [
    "# 1 - ANÁLISE EXPLORATÓRIA"
   ]
  },
  {
   "cell_type": "code",
   "execution_count": 5,
   "id": "67ff85d9",
   "metadata": {},
   "outputs": [
    {
     "data": {
      "application/vnd.microsoft.datawrangler.viewer.v0+json": {
       "columns": [
        {
         "name": "index",
         "rawType": "object",
         "type": "string"
        },
        {
         "name": "0",
         "rawType": "int64",
         "type": "integer"
        }
       ],
       "ref": "663af52c-67e3-4434-974d-d623d53f8511",
       "rows": [
        [
         "person_age",
         "0"
        ],
        [
         "person_income",
         "0"
        ],
        [
         "person_home_ownership",
         "0"
        ],
        [
         "person_emp_length",
         "895"
        ],
        [
         "loan_intent",
         "0"
        ],
        [
         "loan_amnt",
         "0"
        ],
        [
         "loan_percent_income",
         "0"
        ],
        [
         "cb_person_default_on_file",
         "0"
        ]
       ],
       "shape": {
        "columns": 1,
        "rows": 8
       }
      },
      "text/plain": [
       "person_age                     0\n",
       "person_income                  0\n",
       "person_home_ownership          0\n",
       "person_emp_length            895\n",
       "loan_intent                    0\n",
       "loan_amnt                      0\n",
       "loan_percent_income            0\n",
       "cb_person_default_on_file      0\n",
       "dtype: int64"
      ]
     },
     "execution_count": 5,
     "metadata": {},
     "output_type": "execute_result"
    }
   ],
   "source": [
    "# Checking if exist columns with null values\n",
    "count_isnull = dataset_credit_risk.isnull().sum()\n",
    "count_isnull"
   ]
  },
  {
   "cell_type": "code",
   "execution_count": 6,
   "id": "aa2f96d1",
   "metadata": {},
   "outputs": [
    {
     "name": "stdout",
     "output_type": "stream",
     "text": [
      "Exist duplicated records\n"
     ]
    }
   ],
   "source": [
    "# Checking if exist columns with values duplicated\n",
    "count_duplicated = dataset_credit_risk.duplicated().sum()\n",
    "\n",
    "if count_duplicated == 0:\n",
    "    print(\"Not exist duplicated records\")\n",
    "else:\n",
    "    print(\"Exist duplicated records\")"
   ]
  },
  {
   "cell_type": "code",
   "execution_count": 7,
   "id": "c991a71f",
   "metadata": {},
   "outputs": [
    {
     "name": "stdout",
     "output_type": "stream",
     "text": [
      "<class 'pandas.core.frame.DataFrame'>\n",
      "RangeIndex: 32581 entries, 0 to 32580\n",
      "Data columns (total 8 columns):\n",
      " #   Column                     Non-Null Count  Dtype  \n",
      "---  ------                     --------------  -----  \n",
      " 0   person_age                 32581 non-null  int64  \n",
      " 1   person_income              32581 non-null  int64  \n",
      " 2   person_home_ownership      32581 non-null  object \n",
      " 3   person_emp_length          31686 non-null  float64\n",
      " 4   loan_intent                32581 non-null  object \n",
      " 5   loan_amnt                  32581 non-null  int64  \n",
      " 6   loan_percent_income        32581 non-null  float64\n",
      " 7   cb_person_default_on_file  32581 non-null  object \n",
      "dtypes: float64(2), int64(3), object(3)\n",
      "memory usage: 2.0+ MB\n"
     ]
    }
   ],
   "source": [
    "# checking all types of columns\n",
    "dataset_credit_risk.info()"
   ]
  },
  {
   "cell_type": "code",
   "execution_count": 8,
   "id": "543d21b1",
   "metadata": {},
   "outputs": [
    {
     "data": {
      "application/vnd.microsoft.datawrangler.viewer.v0+json": {
       "columns": [
        {
         "name": "index",
         "rawType": "object",
         "type": "string"
        },
        {
         "name": "estatísticas descritivas",
         "rawType": "float64",
         "type": "float"
        }
       ],
       "ref": "fc44bf1f-925d-4d70-a778-2ba7a9e92174",
       "rows": [
        [
         "count",
         "32581.0"
        ],
        [
         "mean",
         "9589.37"
        ],
        [
         "std",
         "6322.09"
        ],
        [
         "min",
         "500.0"
        ],
        [
         "25%",
         "5000.0"
        ],
        [
         "50%",
         "8000.0"
        ],
        [
         "75%",
         "12200.0"
        ],
        [
         "max",
         "35000.0"
        ]
       ],
       "shape": {
        "columns": 1,
        "rows": 8
       }
      },
      "text/html": [
       "<div>\n",
       "<style scoped>\n",
       "    .dataframe tbody tr th:only-of-type {\n",
       "        vertical-align: middle;\n",
       "    }\n",
       "\n",
       "    .dataframe tbody tr th {\n",
       "        vertical-align: top;\n",
       "    }\n",
       "\n",
       "    .dataframe thead th {\n",
       "        text-align: right;\n",
       "    }\n",
       "</style>\n",
       "<table border=\"1\" class=\"dataframe\">\n",
       "  <thead>\n",
       "    <tr style=\"text-align: right;\">\n",
       "      <th></th>\n",
       "      <th>estatísticas descritivas</th>\n",
       "    </tr>\n",
       "  </thead>\n",
       "  <tbody>\n",
       "    <tr>\n",
       "      <th>count</th>\n",
       "      <td>32581.00</td>\n",
       "    </tr>\n",
       "    <tr>\n",
       "      <th>mean</th>\n",
       "      <td>9589.37</td>\n",
       "    </tr>\n",
       "    <tr>\n",
       "      <th>std</th>\n",
       "      <td>6322.09</td>\n",
       "    </tr>\n",
       "    <tr>\n",
       "      <th>min</th>\n",
       "      <td>500.00</td>\n",
       "    </tr>\n",
       "    <tr>\n",
       "      <th>25%</th>\n",
       "      <td>5000.00</td>\n",
       "    </tr>\n",
       "    <tr>\n",
       "      <th>50%</th>\n",
       "      <td>8000.00</td>\n",
       "    </tr>\n",
       "    <tr>\n",
       "      <th>75%</th>\n",
       "      <td>12200.00</td>\n",
       "    </tr>\n",
       "    <tr>\n",
       "      <th>max</th>\n",
       "      <td>35000.00</td>\n",
       "    </tr>\n",
       "  </tbody>\n",
       "</table>\n",
       "</div>"
      ],
      "text/plain": [
       "       estatísticas descritivas\n",
       "count                  32581.00\n",
       "mean                    9589.37\n",
       "std                     6322.09\n",
       "min                      500.00\n",
       "25%                     5000.00\n",
       "50%                     8000.00\n",
       "75%                    12200.00\n",
       "max                    35000.00"
      ]
     },
     "execution_count": 8,
     "metadata": {},
     "output_type": "execute_result"
    }
   ],
   "source": [
    "# Analysis of descritive statistics\n",
    "descritive_statistics = dataset_credit_risk[\"loan_amnt\"]\n",
    "descritive_statistics = pd.DataFrame(descritive_statistics, columns=[\"loan_amnt\"])\n",
    "descritive_statistics = descritive_statistics.describe().round(2)\n",
    "descritive_statistics = descritive_statistics.rename(columns={'loan_amnt':'estatísticas descritivas'})\n",
    "descritive_statistics"
   ]
  },
  {
   "cell_type": "code",
   "execution_count": 9,
   "id": "dbb48023",
   "metadata": {},
   "outputs": [
    {
     "data": {
      "text/plain": [
       "{'whiskers': [<matplotlib.lines.Line2D at 0x13d062df0>,\n",
       "  <matplotlib.lines.Line2D at 0x13cfedc70>],\n",
       " 'caps': [<matplotlib.lines.Line2D at 0x13cfedcd0>,\n",
       "  <matplotlib.lines.Line2D at 0x13d068b80>],\n",
       " 'boxes': [<matplotlib.lines.Line2D at 0x13d062970>],\n",
       " 'medians': [<matplotlib.lines.Line2D at 0x13d068cd0>],\n",
       " 'fliers': [<matplotlib.lines.Line2D at 0x13d068b20>],\n",
       " 'means': []}"
      ]
     },
     "execution_count": 9,
     "metadata": {},
     "output_type": "execute_result"
    },
    {
     "data": {
      "image/png": "[encoded data removed]",
      "text/plain": [
       "<Figure size 640x480 with 1 Axes>"
      ]
     },
     "metadata": {},
     "output_type": "display_data"
    }
   ],
   "source": [
    "#Plot descriptive statistics\n",
    "fig = plt.boxplot(descritive_statistics)\n",
    "fig"
   ]
  },
  {
   "cell_type": "markdown",
   "id": "eb59749d",
   "metadata": {},
   "source": [
    "* Com o gráfico é possível analisar que não possuímos quase nenhum outlier, facilitando o trabalhar de identificar a massa que será concentrado a política de crédito, ou seja o banco assumiu como estratégia realizar empréstimo para um grupo onde se concentra a maioria dos pedidos, não tem muita aleatoridade. De acordo com o boxplot entre o primeiro quartil e o terceiro quartia as solicitações de crédito estão concentradas a maiorias das massas."
   ]
  },
  {
   "cell_type": "markdown",
   "id": "329c016a",
   "metadata": {},
   "source": [
    "# 2 - Definição da Políticas de crédito e Modelagem\n",
    "\n",
    "Objetivo é definir o perfil das pessoas onde banco quer aprovar um crédito ou não, após análise exploratória os diretores e gerente do banco chegaram nas seguintes políticas:\n",
    "\n",
    "Todos os requisitos precisam ser satisfeitos para possuirem a variavel target = 1\n",
    "Target = 1 (Cliente onde iremos aprovar crédito) e Target = 0 (Cliente onde não possui o perfil desejado pelo banco)\n",
    "\n",
    "1 - Limite de crédito:\n",
    "\n",
    "Pedido Mínimo R$ 5.000,00 e máximo R$ 15.000,00\n",
    "\n",
    "2 - Inadimplência passada\n",
    "\n",
    "Clientes que tem registro de inadimplência anterior não terá crédito aprovado\n",
    "\n",
    "se cb_person_default_on_file = Y então o crédito será negado, caso contrario o crédito pode ser concedido\n",
    "\n",
    "3 - Emprego\n",
    "\n",
    "Possuir emprego fixo 1 ano ou mais.\n",
    "\n",
    "4 - Idade\n",
    "\n",
    "Possuir idade igual ou inferior a 40 anos (Estratégia de direcionar esse produto de crédito para jovens gamers)\n",
    "\n",
    "5 - Percentual de renda\n",
    "\n",
    "Não será aprovado empréstimo que comprometa mais que 30% da renda anual"
   ]
  },
  {
   "cell_type": "code",
   "execution_count": 10,
   "id": "d63b8dc6",
   "metadata": {},
   "outputs": [],
   "source": [
    "# remove duplicated records\n",
    "dataset_credit_risk.drop_duplicates(keep=\"first\", inplace=True)"
   ]
  },
  {
   "cell_type": "markdown",
   "id": "c7ed1d1c",
   "metadata": {},
   "source": [
    "## Policies of credit risk"
   ]
  },
  {
   "cell_type": "code",
   "execution_count": 11,
   "id": "b6b6b7e5",
   "metadata": {},
   "outputs": [
    {
     "data": {
      "application/vnd.microsoft.datawrangler.viewer.v0+json": {
       "columns": [
        {
         "name": "index",
         "rawType": "int64",
         "type": "integer"
        },
        {
         "name": "person_age",
         "rawType": "int64",
         "type": "integer"
        },
        {
         "name": "person_income",
         "rawType": "int64",
         "type": "integer"
        },
        {
         "name": "person_home_ownership",
         "rawType": "object",
         "type": "string"
        },
        {
         "name": "person_emp_length",
         "rawType": "float64",
         "type": "float"
        },
        {
         "name": "loan_intent",
         "rawType": "object",
         "type": "string"
        },
        {
         "name": "loan_amnt",
         "rawType": "int64",
         "type": "integer"
        },
        {
         "name": "loan_percent_income",
         "rawType": "float64",
         "type": "float"
        },
        {
         "name": "cb_person_default_on_file",
         "rawType": "object",
         "type": "string"
        },
        {
         "name": "credit",
         "rawType": "int64",
         "type": "integer"
        }
       ],
       "ref": "c2e0fe3d-ab41-4027-895c-ce7007a75dd9",
       "rows": [
        [
         "0",
         "22",
         "59000",
         "RENT",
         "123.0",
         "PERSONAL",
         "35000",
         "0.59",
         "Y",
         "0"
        ],
        [
         "1",
         "21",
         "9600",
         "OWN",
         "5.0",
         "EDUCATION",
         "1000",
         "0.1",
         "N",
         "0"
        ],
        [
         "2",
         "25",
         "9600",
         "MORTGAGE",
         "1.0",
         "MEDICAL",
         "5500",
         "0.57",
         "N",
         "0"
        ],
        [
         "3",
         "23",
         "65500",
         "RENT",
         "4.0",
         "MEDICAL",
         "35000",
         "0.53",
         "N",
         "0"
        ],
        [
         "4",
         "24",
         "54400",
         "RENT",
         "8.0",
         "MEDICAL",
         "35000",
         "0.55",
         "Y",
         "0"
        ],
        [
         "5",
         "21",
         "9900",
         "OWN",
         "2.0",
         "VENTURE",
         "2500",
         "0.25",
         "N",
         "0"
        ],
        [
         "6",
         "26",
         "77100",
         "RENT",
         "8.0",
         "EDUCATION",
         "35000",
         "0.45",
         "N",
         "0"
        ],
        [
         "7",
         "24",
         "78956",
         "RENT",
         "5.0",
         "MEDICAL",
         "35000",
         "0.44",
         "N",
         "0"
        ],
        [
         "8",
         "24",
         "83000",
         "RENT",
         "8.0",
         "PERSONAL",
         "35000",
         "0.42",
         "N",
         "0"
        ],
        [
         "9",
         "21",
         "10000",
         "OWN",
         "6.0",
         "VENTURE",
         "1600",
         "0.16",
         "N",
         "0"
        ],
        [
         "10",
         "22",
         "85000",
         "RENT",
         "6.0",
         "VENTURE",
         "35000",
         "0.41",
         "N",
         "0"
        ],
        [
         "11",
         "21",
         "10000",
         "OWN",
         "2.0",
         "HOMEIMPROVEMENT",
         "4500",
         "0.45",
         "N",
         "0"
        ],
        [
         "12",
         "23",
         "95000",
         "RENT",
         "2.0",
         "VENTURE",
         "35000",
         "0.37",
         "N",
         "0"
        ],
        [
         "13",
         "26",
         "108160",
         "RENT",
         "4.0",
         "EDUCATION",
         "35000",
         "0.32",
         "N",
         "0"
        ],
        [
         "14",
         "23",
         "115000",
         "RENT",
         "2.0",
         "EDUCATION",
         "35000",
         "0.3",
         "N",
         "0"
        ]
       ],
       "shape": {
        "columns": 9,
        "rows": 15
       }
      },
      "text/html": [
       "<div>\n",
       "<style scoped>\n",
       "    .dataframe tbody tr th:only-of-type {\n",
       "        vertical-align: middle;\n",
       "    }\n",
       "\n",
       "    .dataframe tbody tr th {\n",
       "        vertical-align: top;\n",
       "    }\n",
       "\n",
       "    .dataframe thead th {\n",
       "        text-align: right;\n",
       "    }\n",
       "</style>\n",
       "<table border=\"1\" class=\"dataframe\">\n",
       "  <thead>\n",
       "    <tr style=\"text-align: right;\">\n",
       "      <th></th>\n",
       "      <th>person_age</th>\n",
       "      <th>person_income</th>\n",
       "      <th>person_home_ownership</th>\n",
       "      <th>person_emp_length</th>\n",
       "      <th>loan_intent</th>\n",
       "      <th>loan_amnt</th>\n",
       "      <th>loan_percent_income</th>\n",
       "      <th>cb_person_default_on_file</th>\n",
       "      <th>credit</th>\n",
       "    </tr>\n",
       "  </thead>\n",
       "  <tbody>\n",
       "    <tr>\n",
       "      <th>0</th>\n",
       "      <td>22</td>\n",
       "      <td>59000</td>\n",
       "      <td>RENT</td>\n",
       "      <td>123.0</td>\n",
       "      <td>PERSONAL</td>\n",
       "      <td>35000</td>\n",
       "      <td>0.59</td>\n",
       "      <td>Y</td>\n",
       "      <td>0</td>\n",
       "    </tr>\n",
       "    <tr>\n",
       "      <th>1</th>\n",
       "      <td>21</td>\n",
       "      <td>9600</td>\n",
       "      <td>OWN</td>\n",
       "      <td>5.0</td>\n",
       "      <td>EDUCATION</td>\n",
       "      <td>1000</td>\n",
       "      <td>0.10</td>\n",
       "      <td>N</td>\n",
       "      <td>0</td>\n",
       "    </tr>\n",
       "    <tr>\n",
       "      <th>2</th>\n",
       "      <td>25</td>\n",
       "      <td>9600</td>\n",
       "      <td>MORTGAGE</td>\n",
       "      <td>1.0</td>\n",
       "      <td>MEDICAL</td>\n",
       "      <td>5500</td>\n",
       "      <td>0.57</td>\n",
       "      <td>N</td>\n",
       "      <td>0</td>\n",
       "    </tr>\n",
       "    <tr>\n",
       "      <th>3</th>\n",
       "      <td>23</td>\n",
       "      <td>65500</td>\n",
       "      <td>RENT</td>\n",
       "      <td>4.0</td>\n",
       "      <td>MEDICAL</td>\n",
       "      <td>35000</td>\n",
       "      <td>0.53</td>\n",
       "      <td>N</td>\n",
       "      <td>0</td>\n",
       "    </tr>\n",
       "    <tr>\n",
       "      <th>4</th>\n",
       "      <td>24</td>\n",
       "      <td>54400</td>\n",
       "      <td>RENT</td>\n",
       "      <td>8.0</td>\n",
       "      <td>MEDICAL</td>\n",
       "      <td>35000</td>\n",
       "      <td>0.55</td>\n",
       "      <td>Y</td>\n",
       "      <td>0</td>\n",
       "    </tr>\n",
       "    <tr>\n",
       "      <th>5</th>\n",
       "      <td>21</td>\n",
       "      <td>9900</td>\n",
       "      <td>OWN</td>\n",
       "      <td>2.0</td>\n",
       "      <td>VENTURE</td>\n",
       "      <td>2500</td>\n",
       "      <td>0.25</td>\n",
       "      <td>N</td>\n",
       "      <td>0</td>\n",
       "    </tr>\n",
       "    <tr>\n",
       "      <th>6</th>\n",
       "      <td>26</td>\n",
       "      <td>77100</td>\n",
       "      <td>RENT</td>\n",
       "      <td>8.0</td>\n",
       "      <td>EDUCATION</td>\n",
       "      <td>35000</td>\n",
       "      <td>0.45</td>\n",
       "      <td>N</td>\n",
       "      <td>0</td>\n",
       "    </tr>\n",
       "    <tr>\n",
       "      <th>7</th>\n",
       "      <td>24</td>\n",
       "      <td>78956</td>\n",
       "      <td>RENT</td>\n",
       "      <td>5.0</td>\n",
       "      <td>MEDICAL</td>\n",
       "      <td>35000</td>\n",
       "      <td>0.44</td>\n",
       "      <td>N</td>\n",
       "      <td>0</td>\n",
       "    </tr>\n",
       "    <tr>\n",
       "      <th>8</th>\n",
       "      <td>24</td>\n",
       "      <td>83000</td>\n",
       "      <td>RENT</td>\n",
       "      <td>8.0</td>\n",
       "      <td>PERSONAL</td>\n",
       "      <td>35000</td>\n",
       "      <td>0.42</td>\n",
       "      <td>N</td>\n",
       "      <td>0</td>\n",
       "    </tr>\n",
       "    <tr>\n",
       "      <th>9</th>\n",
       "      <td>21</td>\n",
       "      <td>10000</td>\n",
       "      <td>OWN</td>\n",
       "      <td>6.0</td>\n",
       "      <td>VENTURE</td>\n",
       "      <td>1600</td>\n",
       "      <td>0.16</td>\n",
       "      <td>N</td>\n",
       "      <td>0</td>\n",
       "    </tr>\n",
       "    <tr>\n",
       "      <th>10</th>\n",
       "      <td>22</td>\n",
       "      <td>85000</td>\n",
       "      <td>RENT</td>\n",
       "      <td>6.0</td>\n",
       "      <td>VENTURE</td>\n",
       "      <td>35000</td>\n",
       "      <td>0.41</td>\n",
       "      <td>N</td>\n",
       "      <td>0</td>\n",
       "    </tr>\n",
       "    <tr>\n",
       "      <th>11</th>\n",
       "      <td>21</td>\n",
       "      <td>10000</td>\n",
       "      <td>OWN</td>\n",
       "      <td>2.0</td>\n",
       "      <td>HOMEIMPROVEMENT</td>\n",
       "      <td>4500</td>\n",
       "      <td>0.45</td>\n",
       "      <td>N</td>\n",
       "      <td>0</td>\n",
       "    </tr>\n",
       "    <tr>\n",
       "      <th>12</th>\n",
       "      <td>23</td>\n",
       "      <td>95000</td>\n",
       "      <td>RENT</td>\n",
       "      <td>2.0</td>\n",
       "      <td>VENTURE</td>\n",
       "      <td>35000</td>\n",
       "      <td>0.37</td>\n",
       "      <td>N</td>\n",
       "      <td>0</td>\n",
       "    </tr>\n",
       "    <tr>\n",
       "      <th>13</th>\n",
       "      <td>26</td>\n",
       "      <td>108160</td>\n",
       "      <td>RENT</td>\n",
       "      <td>4.0</td>\n",
       "      <td>EDUCATION</td>\n",
       "      <td>35000</td>\n",
       "      <td>0.32</td>\n",
       "      <td>N</td>\n",
       "      <td>0</td>\n",
       "    </tr>\n",
       "    <tr>\n",
       "      <th>14</th>\n",
       "      <td>23</td>\n",
       "      <td>115000</td>\n",
       "      <td>RENT</td>\n",
       "      <td>2.0</td>\n",
       "      <td>EDUCATION</td>\n",
       "      <td>35000</td>\n",
       "      <td>0.30</td>\n",
       "      <td>N</td>\n",
       "      <td>0</td>\n",
       "    </tr>\n",
       "  </tbody>\n",
       "</table>\n",
       "</div>"
      ],
      "text/plain": [
       "    person_age  person_income person_home_ownership  person_emp_length  \\\n",
       "0           22          59000                  RENT              123.0   \n",
       "1           21           9600                   OWN                5.0   \n",
       "2           25           9600              MORTGAGE                1.0   \n",
       "3           23          65500                  RENT                4.0   \n",
       "4           24          54400                  RENT                8.0   \n",
       "5           21           9900                   OWN                2.0   \n",
       "6           26          77100                  RENT                8.0   \n",
       "7           24          78956                  RENT                5.0   \n",
       "8           24          83000                  RENT                8.0   \n",
       "9           21          10000                   OWN                6.0   \n",
       "10          22          85000                  RENT                6.0   \n",
       "11          21          10000                   OWN                2.0   \n",
       "12          23          95000                  RENT                2.0   \n",
       "13          26         108160                  RENT                4.0   \n",
       "14          23         115000                  RENT                2.0   \n",
       "\n",
       "        loan_intent  loan_amnt  loan_percent_income cb_person_default_on_file  \\\n",
       "0          PERSONAL      35000                 0.59                         Y   \n",
       "1         EDUCATION       1000                 0.10                         N   \n",
       "2           MEDICAL       5500                 0.57                         N   \n",
       "3           MEDICAL      35000                 0.53                         N   \n",
       "4           MEDICAL      35000                 0.55                         Y   \n",
       "5           VENTURE       2500                 0.25                         N   \n",
       "6         EDUCATION      35000                 0.45                         N   \n",
       "7           MEDICAL      35000                 0.44                         N   \n",
       "8          PERSONAL      35000                 0.42                         N   \n",
       "9           VENTURE       1600                 0.16                         N   \n",
       "10          VENTURE      35000                 0.41                         N   \n",
       "11  HOMEIMPROVEMENT       4500                 0.45                         N   \n",
       "12          VENTURE      35000                 0.37                         N   \n",
       "13        EDUCATION      35000                 0.32                         N   \n",
       "14        EDUCATION      35000                 0.30                         N   \n",
       "\n",
       "    credit  \n",
       "0        0  \n",
       "1        0  \n",
       "2        0  \n",
       "3        0  \n",
       "4        0  \n",
       "5        0  \n",
       "6        0  \n",
       "7        0  \n",
       "8        0  \n",
       "9        0  \n",
       "10       0  \n",
       "11       0  \n",
       "12       0  \n",
       "13       0  \n",
       "14       0  "
      ]
     },
     "execution_count": 11,
     "metadata": {},
     "output_type": "execute_result"
    }
   ],
   "source": [
    "\n",
    "dataset_credit_risk[\"credit\"] = np.where(\n",
    "    (dataset_credit_risk[\"loan_amnt\"] >= 5000) & (dataset_credit_risk[\"loan_amnt\"] <= 15000) & \\\n",
    "    (dataset_credit_risk[\"cb_person_default_on_file\"] == \"N\") & \\\n",
    "    (dataset_credit_risk[\"person_emp_length\"] >= 1) & \\\n",
    "    (dataset_credit_risk[\"person_age\"] <= 40) & \\\n",
    "    (dataset_credit_risk[\"loan_amnt\"] / dataset_credit_risk[\"person_income\"] <= 0.30 ) \\\n",
    "    ,1, 0)\n",
    "\n",
    "# Display\n",
    "dataset_credit_risk.head(15)"
   ]
  },
  {
   "cell_type": "code",
   "execution_count": 12,
   "id": "2e7220c2",
   "metadata": {},
   "outputs": [
    {
     "data": {
      "application/vnd.microsoft.datawrangler.viewer.v0+json": {
       "columns": [
        {
         "name": "index",
         "rawType": "int64",
         "type": "integer"
        },
        {
         "name": "person_age",
         "rawType": "int64",
         "type": "integer"
        },
        {
         "name": "person_income",
         "rawType": "int64",
         "type": "integer"
        },
        {
         "name": "person_home_ownership",
         "rawType": "object",
         "type": "string"
        },
        {
         "name": "person_emp_length",
         "rawType": "float64",
         "type": "float"
        },
        {
         "name": "loan_intent",
         "rawType": "object",
         "type": "string"
        },
        {
         "name": "loan_amnt",
         "rawType": "int64",
         "type": "integer"
        },
        {
         "name": "loan_percent_income",
         "rawType": "float64",
         "type": "float"
        },
        {
         "name": "cb_person_default_on_file",
         "rawType": "object",
         "type": "string"
        },
        {
         "name": "credit",
         "rawType": "int64",
         "type": "integer"
        }
       ],
       "ref": "b8336b56-26dd-4333-918a-8e89cac8de6d",
       "rows": [
        [
         "34",
         "26",
         "300000",
         "MORTGAGE",
         "10.0",
         "MEDICAL",
         "7800",
         "0.03",
         "N",
         "1"
        ],
        [
         "44",
         "26",
         "300000",
         "OWN",
         "9.0",
         "HOMEIMPROVEMENT",
         "10000",
         "0.03",
         "N",
         "1"
        ],
        [
         "61",
         "22",
         "275000",
         "OWN",
         "6.0",
         "VENTURE",
         "12000",
         "0.04",
         "N",
         "1"
        ],
        [
         "68",
         "24",
         "255000",
         "MORTGAGE",
         "9.0",
         "EDUCATION",
         "9600",
         "0.04",
         "N",
         "1"
        ],
        [
         "125",
         "23",
         "225000",
         "RENT",
         "8.0",
         "DEBTCONSOLIDATION",
         "7500",
         "0.03",
         "N",
         "1"
        ],
        [
         "141",
         "26",
         "215000",
         "MORTGAGE",
         "11.0",
         "EDUCATION",
         "12000",
         "0.06",
         "N",
         "1"
        ],
        [
         "165",
         "24",
         "200000",
         "RENT",
         "8.0",
         "MEDICAL",
         "12000",
         "0.06",
         "N",
         "1"
        ],
        [
         "166",
         "24",
         "200000",
         "MORTGAGE",
         "8.0",
         "HOMEIMPROVEMENT",
         "12000",
         "0.06",
         "N",
         "1"
        ],
        [
         "177",
         "26",
         "200000",
         "MORTGAGE",
         "4.0",
         "EDUCATION",
         "15000",
         "0.07",
         "N",
         "1"
        ],
        [
         "179",
         "24",
         "200000",
         "RENT",
         "8.0",
         "EDUCATION",
         "10000",
         "0.05",
         "N",
         "1"
        ],
        [
         "182",
         "22",
         "200000",
         "MORTGAGE",
         "6.0",
         "DEBTCONSOLIDATION",
         "9000",
         "0.04",
         "N",
         "1"
        ],
        [
         "185",
         "25",
         "200000",
         "MORTGAGE",
         "2.0",
         "VENTURE",
         "12000",
         "0.06",
         "N",
         "1"
        ],
        [
         "211",
         "25",
         "191000",
         "MORTGAGE",
         "1.0",
         "MEDICAL",
         "10000",
         "0.05",
         "N",
         "1"
        ],
        [
         "212",
         "26",
         "190300",
         "MORTGAGE",
         "5.0",
         "PERSONAL",
         "15000",
         "0.08",
         "N",
         "1"
        ],
        [
         "213",
         "22",
         "190000",
         "MORTGAGE",
         "3.0",
         "VENTURE",
         "10000",
         "0.05",
         "N",
         "1"
        ]
       ],
       "shape": {
        "columns": 9,
        "rows": 15
       }
      },
      "text/html": [
       "<div>\n",
       "<style scoped>\n",
       "    .dataframe tbody tr th:only-of-type {\n",
       "        vertical-align: middle;\n",
       "    }\n",
       "\n",
       "    .dataframe tbody tr th {\n",
       "        vertical-align: top;\n",
       "    }\n",
       "\n",
       "    .dataframe thead th {\n",
       "        text-align: right;\n",
       "    }\n",
       "</style>\n",
       "<table border=\"1\" class=\"dataframe\">\n",
       "  <thead>\n",
       "    <tr style=\"text-align: right;\">\n",
       "      <th></th>\n",
       "      <th>person_age</th>\n",
       "      <th>person_income</th>\n",
       "      <th>person_home_ownership</th>\n",
       "      <th>person_emp_length</th>\n",
       "      <th>loan_intent</th>\n",
       "      <th>loan_amnt</th>\n",
       "      <th>loan_percent_income</th>\n",
       "      <th>cb_person_default_on_file</th>\n",
       "      <th>credit</th>\n",
       "    </tr>\n",
       "  </thead>\n",
       "  <tbody>\n",
       "    <tr>\n",
       "      <th>34</th>\n",
       "      <td>26</td>\n",
       "      <td>300000</td>\n",
       "      <td>MORTGAGE</td>\n",
       "      <td>10.0</td>\n",
       "      <td>MEDICAL</td>\n",
       "      <td>7800</td>\n",
       "      <td>0.03</td>\n",
       "      <td>N</td>\n",
       "      <td>1</td>\n",
       "    </tr>\n",
       "    <tr>\n",
       "      <th>44</th>\n",
       "      <td>26</td>\n",
       "      <td>300000</td>\n",
       "      <td>OWN</td>\n",
       "      <td>9.0</td>\n",
       "      <td>HOMEIMPROVEMENT</td>\n",
       "      <td>10000</td>\n",
       "      <td>0.03</td>\n",
       "      <td>N</td>\n",
       "      <td>1</td>\n",
       "    </tr>\n",
       "    <tr>\n",
       "      <th>61</th>\n",
       "      <td>22</td>\n",
       "      <td>275000</td>\n",
       "      <td>OWN</td>\n",
       "      <td>6.0</td>\n",
       "      <td>VENTURE</td>\n",
       "      <td>12000</td>\n",
       "      <td>0.04</td>\n",
       "      <td>N</td>\n",
       "      <td>1</td>\n",
       "    </tr>\n",
       "    <tr>\n",
       "      <th>68</th>\n",
       "      <td>24</td>\n",
       "      <td>255000</td>\n",
       "      <td>MORTGAGE</td>\n",
       "      <td>9.0</td>\n",
       "      <td>EDUCATION</td>\n",
       "      <td>9600</td>\n",
       "      <td>0.04</td>\n",
       "      <td>N</td>\n",
       "      <td>1</td>\n",
       "    </tr>\n",
       "    <tr>\n",
       "      <th>125</th>\n",
       "      <td>23</td>\n",
       "      <td>225000</td>\n",
       "      <td>RENT</td>\n",
       "      <td>8.0</td>\n",
       "      <td>DEBTCONSOLIDATION</td>\n",
       "      <td>7500</td>\n",
       "      <td>0.03</td>\n",
       "      <td>N</td>\n",
       "      <td>1</td>\n",
       "    </tr>\n",
       "    <tr>\n",
       "      <th>141</th>\n",
       "      <td>26</td>\n",
       "      <td>215000</td>\n",
       "      <td>MORTGAGE</td>\n",
       "      <td>11.0</td>\n",
       "      <td>EDUCATION</td>\n",
       "      <td>12000</td>\n",
       "      <td>0.06</td>\n",
       "      <td>N</td>\n",
       "      <td>1</td>\n",
       "    </tr>\n",
       "    <tr>\n",
       "      <th>165</th>\n",
       "      <td>24</td>\n",
       "      <td>200000</td>\n",
       "      <td>RENT</td>\n",
       "      <td>8.0</td>\n",
       "      <td>MEDICAL</td>\n",
       "      <td>12000</td>\n",
       "      <td>0.06</td>\n",
       "      <td>N</td>\n",
       "      <td>1</td>\n",
       "    </tr>\n",
       "    <tr>\n",
       "      <th>166</th>\n",
       "      <td>24</td>\n",
       "      <td>200000</td>\n",
       "      <td>MORTGAGE</td>\n",
       "      <td>8.0</td>\n",
       "      <td>HOMEIMPROVEMENT</td>\n",
       "      <td>12000</td>\n",
       "      <td>0.06</td>\n",
       "      <td>N</td>\n",
       "      <td>1</td>\n",
       "    </tr>\n",
       "    <tr>\n",
       "      <th>177</th>\n",
       "      <td>26</td>\n",
       "      <td>200000</td>\n",
       "      <td>MORTGAGE</td>\n",
       "      <td>4.0</td>\n",
       "      <td>EDUCATION</td>\n",
       "      <td>15000</td>\n",
       "      <td>0.07</td>\n",
       "      <td>N</td>\n",
       "      <td>1</td>\n",
       "    </tr>\n",
       "    <tr>\n",
       "      <th>179</th>\n",
       "      <td>24</td>\n",
       "      <td>200000</td>\n",
       "      <td>RENT</td>\n",
       "      <td>8.0</td>\n",
       "      <td>EDUCATION</td>\n",
       "      <td>10000</td>\n",
       "      <td>0.05</td>\n",
       "      <td>N</td>\n",
       "      <td>1</td>\n",
       "    </tr>\n",
       "    <tr>\n",
       "      <th>182</th>\n",
       "      <td>22</td>\n",
       "      <td>200000</td>\n",
       "      <td>MORTGAGE</td>\n",
       "      <td>6.0</td>\n",
       "      <td>DEBTCONSOLIDATION</td>\n",
       "      <td>9000</td>\n",
       "      <td>0.04</td>\n",
       "      <td>N</td>\n",
       "      <td>1</td>\n",
       "    </tr>\n",
       "    <tr>\n",
       "      <th>185</th>\n",
       "      <td>25</td>\n",
       "      <td>200000</td>\n",
       "      <td>MORTGAGE</td>\n",
       "      <td>2.0</td>\n",
       "      <td>VENTURE</td>\n",
       "      <td>12000</td>\n",
       "      <td>0.06</td>\n",
       "      <td>N</td>\n",
       "      <td>1</td>\n",
       "    </tr>\n",
       "    <tr>\n",
       "      <th>211</th>\n",
       "      <td>25</td>\n",
       "      <td>191000</td>\n",
       "      <td>MORTGAGE</td>\n",
       "      <td>1.0</td>\n",
       "      <td>MEDICAL</td>\n",
       "      <td>10000</td>\n",
       "      <td>0.05</td>\n",
       "      <td>N</td>\n",
       "      <td>1</td>\n",
       "    </tr>\n",
       "    <tr>\n",
       "      <th>212</th>\n",
       "      <td>26</td>\n",
       "      <td>190300</td>\n",
       "      <td>MORTGAGE</td>\n",
       "      <td>5.0</td>\n",
       "      <td>PERSONAL</td>\n",
       "      <td>15000</td>\n",
       "      <td>0.08</td>\n",
       "      <td>N</td>\n",
       "      <td>1</td>\n",
       "    </tr>\n",
       "    <tr>\n",
       "      <th>213</th>\n",
       "      <td>22</td>\n",
       "      <td>190000</td>\n",
       "      <td>MORTGAGE</td>\n",
       "      <td>3.0</td>\n",
       "      <td>VENTURE</td>\n",
       "      <td>10000</td>\n",
       "      <td>0.05</td>\n",
       "      <td>N</td>\n",
       "      <td>1</td>\n",
       "    </tr>\n",
       "  </tbody>\n",
       "</table>\n",
       "</div>"
      ],
      "text/plain": [
       "     person_age  person_income person_home_ownership  person_emp_length  \\\n",
       "34           26         300000              MORTGAGE               10.0   \n",
       "44           26         300000                   OWN                9.0   \n",
       "61           22         275000                   OWN                6.0   \n",
       "68           24         255000              MORTGAGE                9.0   \n",
       "125          23         225000                  RENT                8.0   \n",
       "141          26         215000              MORTGAGE               11.0   \n",
       "165          24         200000                  RENT                8.0   \n",
       "166          24         200000              MORTGAGE                8.0   \n",
       "177          26         200000              MORTGAGE                4.0   \n",
       "179          24         200000                  RENT                8.0   \n",
       "182          22         200000              MORTGAGE                6.0   \n",
       "185          25         200000              MORTGAGE                2.0   \n",
       "211          25         191000              MORTGAGE                1.0   \n",
       "212          26         190300              MORTGAGE                5.0   \n",
       "213          22         190000              MORTGAGE                3.0   \n",
       "\n",
       "           loan_intent  loan_amnt  loan_percent_income  \\\n",
       "34             MEDICAL       7800                 0.03   \n",
       "44     HOMEIMPROVEMENT      10000                 0.03   \n",
       "61             VENTURE      12000                 0.04   \n",
       "68           EDUCATION       9600                 0.04   \n",
       "125  DEBTCONSOLIDATION       7500                 0.03   \n",
       "141          EDUCATION      12000                 0.06   \n",
       "165            MEDICAL      12000                 0.06   \n",
       "166    HOMEIMPROVEMENT      12000                 0.06   \n",
       "177          EDUCATION      15000                 0.07   \n",
       "179          EDUCATION      10000                 0.05   \n",
       "182  DEBTCONSOLIDATION       9000                 0.04   \n",
       "185            VENTURE      12000                 0.06   \n",
       "211            MEDICAL      10000                 0.05   \n",
       "212           PERSONAL      15000                 0.08   \n",
       "213            VENTURE      10000                 0.05   \n",
       "\n",
       "    cb_person_default_on_file  credit  \n",
       "34                          N       1  \n",
       "44                          N       1  \n",
       "61                          N       1  \n",
       "68                          N       1  \n",
       "125                         N       1  \n",
       "141                         N       1  \n",
       "165                         N       1  \n",
       "166                         N       1  \n",
       "177                         N       1  \n",
       "179                         N       1  \n",
       "182                         N       1  \n",
       "185                         N       1  \n",
       "211                         N       1  \n",
       "212                         N       1  \n",
       "213                         N       1  "
      ]
     },
     "execution_count": 12,
     "metadata": {},
     "output_type": "execute_result"
    }
   ],
   "source": [
    "# Display target 1\n",
    "dataset_credit_risk[dataset_credit_risk[\"credit\"] == 1].head(15)\n"
   ]
  },
  {
   "cell_type": "code",
   "execution_count": 13,
   "id": "41c758ac",
   "metadata": {},
   "outputs": [
    {
     "data": {
      "application/vnd.microsoft.datawrangler.viewer.v0+json": {
       "columns": [
        {
         "name": "index",
         "rawType": "int64",
         "type": "integer"
        },
        {
         "name": "person_age",
         "rawType": "int64",
         "type": "integer"
        },
        {
         "name": "person_income",
         "rawType": "int64",
         "type": "integer"
        },
        {
         "name": "person_home_ownership",
         "rawType": "object",
         "type": "string"
        },
        {
         "name": "person_emp_length",
         "rawType": "float64",
         "type": "float"
        },
        {
         "name": "loan_intent",
         "rawType": "object",
         "type": "string"
        },
        {
         "name": "loan_amnt",
         "rawType": "int64",
         "type": "integer"
        },
        {
         "name": "loan_percent_income",
         "rawType": "float64",
         "type": "float"
        },
        {
         "name": "cb_person_default_on_file",
         "rawType": "object",
         "type": "string"
        },
        {
         "name": "credit",
         "rawType": "int64",
         "type": "integer"
        }
       ],
       "ref": "a1461072-4cfc-4470-9d6a-91f78e18f2fd",
       "rows": [
        [
         "0",
         "22",
         "59000",
         "RENT",
         "123.0",
         "PERSONAL",
         "35000",
         "0.59",
         "Y",
         "0"
        ],
        [
         "1",
         "21",
         "9600",
         "OWN",
         "5.0",
         "EDUCATION",
         "1000",
         "0.1",
         "N",
         "0"
        ],
        [
         "2",
         "25",
         "9600",
         "MORTGAGE",
         "1.0",
         "MEDICAL",
         "5500",
         "0.57",
         "N",
         "0"
        ],
        [
         "3",
         "23",
         "65500",
         "RENT",
         "4.0",
         "MEDICAL",
         "35000",
         "0.53",
         "N",
         "0"
        ],
        [
         "4",
         "24",
         "54400",
         "RENT",
         "8.0",
         "MEDICAL",
         "35000",
         "0.55",
         "Y",
         "0"
        ],
        [
         "5",
         "21",
         "9900",
         "OWN",
         "2.0",
         "VENTURE",
         "2500",
         "0.25",
         "N",
         "0"
        ],
        [
         "6",
         "26",
         "77100",
         "RENT",
         "8.0",
         "EDUCATION",
         "35000",
         "0.45",
         "N",
         "0"
        ],
        [
         "7",
         "24",
         "78956",
         "RENT",
         "5.0",
         "MEDICAL",
         "35000",
         "0.44",
         "N",
         "0"
        ],
        [
         "8",
         "24",
         "83000",
         "RENT",
         "8.0",
         "PERSONAL",
         "35000",
         "0.42",
         "N",
         "0"
        ],
        [
         "9",
         "21",
         "10000",
         "OWN",
         "6.0",
         "VENTURE",
         "1600",
         "0.16",
         "N",
         "0"
        ],
        [
         "10",
         "22",
         "85000",
         "RENT",
         "6.0",
         "VENTURE",
         "35000",
         "0.41",
         "N",
         "0"
        ],
        [
         "11",
         "21",
         "10000",
         "OWN",
         "2.0",
         "HOMEIMPROVEMENT",
         "4500",
         "0.45",
         "N",
         "0"
        ],
        [
         "12",
         "23",
         "95000",
         "RENT",
         "2.0",
         "VENTURE",
         "35000",
         "0.37",
         "N",
         "0"
        ],
        [
         "13",
         "26",
         "108160",
         "RENT",
         "4.0",
         "EDUCATION",
         "35000",
         "0.32",
         "N",
         "0"
        ],
        [
         "14",
         "23",
         "115000",
         "RENT",
         "2.0",
         "EDUCATION",
         "35000",
         "0.3",
         "N",
         "0"
        ]
       ],
       "shape": {
        "columns": 9,
        "rows": 15
       }
      },
      "text/html": [
       "<div>\n",
       "<style scoped>\n",
       "    .dataframe tbody tr th:only-of-type {\n",
       "        vertical-align: middle;\n",
       "    }\n",
       "\n",
       "    .dataframe tbody tr th {\n",
       "        vertical-align: top;\n",
       "    }\n",
       "\n",
       "    .dataframe thead th {\n",
       "        text-align: right;\n",
       "    }\n",
       "</style>\n",
       "<table border=\"1\" class=\"dataframe\">\n",
       "  <thead>\n",
       "    <tr style=\"text-align: right;\">\n",
       "      <th></th>\n",
       "      <th>person_age</th>\n",
       "      <th>person_income</th>\n",
       "      <th>person_home_ownership</th>\n",
       "      <th>person_emp_length</th>\n",
       "      <th>loan_intent</th>\n",
       "      <th>loan_amnt</th>\n",
       "      <th>loan_percent_income</th>\n",
       "      <th>cb_person_default_on_file</th>\n",
       "      <th>credit</th>\n",
       "    </tr>\n",
       "  </thead>\n",
       "  <tbody>\n",
       "    <tr>\n",
       "      <th>0</th>\n",
       "      <td>22</td>\n",
       "      <td>59000</td>\n",
       "      <td>RENT</td>\n",
       "      <td>123.0</td>\n",
       "      <td>PERSONAL</td>\n",
       "      <td>35000</td>\n",
       "      <td>0.59</td>\n",
       "      <td>Y</td>\n",
       "      <td>0</td>\n",
       "    </tr>\n",
       "    <tr>\n",
       "      <th>1</th>\n",
       "      <td>21</td>\n",
       "      <td>9600</td>\n",
       "      <td>OWN</td>\n",
       "      <td>5.0</td>\n",
       "      <td>EDUCATION</td>\n",
       "      <td>1000</td>\n",
       "      <td>0.10</td>\n",
       "      <td>N</td>\n",
       "      <td>0</td>\n",
       "    </tr>\n",
       "    <tr>\n",
       "      <th>2</th>\n",
       "      <td>25</td>\n",
       "      <td>9600</td>\n",
       "      <td>MORTGAGE</td>\n",
       "      <td>1.0</td>\n",
       "      <td>MEDICAL</td>\n",
       "      <td>5500</td>\n",
       "      <td>0.57</td>\n",
       "      <td>N</td>\n",
       "      <td>0</td>\n",
       "    </tr>\n",
       "    <tr>\n",
       "      <th>3</th>\n",
       "      <td>23</td>\n",
       "      <td>65500</td>\n",
       "      <td>RENT</td>\n",
       "      <td>4.0</td>\n",
       "      <td>MEDICAL</td>\n",
       "      <td>35000</td>\n",
       "      <td>0.53</td>\n",
       "      <td>N</td>\n",
       "      <td>0</td>\n",
       "    </tr>\n",
       "    <tr>\n",
       "      <th>4</th>\n",
       "      <td>24</td>\n",
       "      <td>54400</td>\n",
       "      <td>RENT</td>\n",
       "      <td>8.0</td>\n",
       "      <td>MEDICAL</td>\n",
       "      <td>35000</td>\n",
       "      <td>0.55</td>\n",
       "      <td>Y</td>\n",
       "      <td>0</td>\n",
       "    </tr>\n",
       "    <tr>\n",
       "      <th>5</th>\n",
       "      <td>21</td>\n",
       "      <td>9900</td>\n",
       "      <td>OWN</td>\n",
       "      <td>2.0</td>\n",
       "      <td>VENTURE</td>\n",
       "      <td>2500</td>\n",
       "      <td>0.25</td>\n",
       "      <td>N</td>\n",
       "      <td>0</td>\n",
       "    </tr>\n",
       "    <tr>\n",
       "      <th>6</th>\n",
       "      <td>26</td>\n",
       "      <td>77100</td>\n",
       "      <td>RENT</td>\n",
       "      <td>8.0</td>\n",
       "      <td>EDUCATION</td>\n",
       "      <td>35000</td>\n",
       "      <td>0.45</td>\n",
       "      <td>N</td>\n",
       "      <td>0</td>\n",
       "    </tr>\n",
       "    <tr>\n",
       "      <th>7</th>\n",
       "      <td>24</td>\n",
       "      <td>78956</td>\n",
       "      <td>RENT</td>\n",
       "      <td>5.0</td>\n",
       "      <td>MEDICAL</td>\n",
       "      <td>35000</td>\n",
       "      <td>0.44</td>\n",
       "      <td>N</td>\n",
       "      <td>0</td>\n",
       "    </tr>\n",
       "    <tr>\n",
       "      <th>8</th>\n",
       "      <td>24</td>\n",
       "      <td>83000</td>\n",
       "      <td>RENT</td>\n",
       "      <td>8.0</td>\n",
       "      <td>PERSONAL</td>\n",
       "      <td>35000</td>\n",
       "      <td>0.42</td>\n",
       "      <td>N</td>\n",
       "      <td>0</td>\n",
       "    </tr>\n",
       "    <tr>\n",
       "      <th>9</th>\n",
       "      <td>21</td>\n",
       "      <td>10000</td>\n",
       "      <td>OWN</td>\n",
       "      <td>6.0</td>\n",
       "      <td>VENTURE</td>\n",
       "      <td>1600</td>\n",
       "      <td>0.16</td>\n",
       "      <td>N</td>\n",
       "      <td>0</td>\n",
       "    </tr>\n",
       "    <tr>\n",
       "      <th>10</th>\n",
       "      <td>22</td>\n",
       "      <td>85000</td>\n",
       "      <td>RENT</td>\n",
       "      <td>6.0</td>\n",
       "      <td>VENTURE</td>\n",
       "      <td>35000</td>\n",
       "      <td>0.41</td>\n",
       "      <td>N</td>\n",
       "      <td>0</td>\n",
       "    </tr>\n",
       "    <tr>\n",
       "      <th>11</th>\n",
       "      <td>21</td>\n",
       "      <td>10000</td>\n",
       "      <td>OWN</td>\n",
       "      <td>2.0</td>\n",
       "      <td>HOMEIMPROVEMENT</td>\n",
       "      <td>4500</td>\n",
       "      <td>0.45</td>\n",
       "      <td>N</td>\n",
       "      <td>0</td>\n",
       "    </tr>\n",
       "    <tr>\n",
       "      <th>12</th>\n",
       "      <td>23</td>\n",
       "      <td>95000</td>\n",
       "      <td>RENT</td>\n",
       "      <td>2.0</td>\n",
       "      <td>VENTURE</td>\n",
       "      <td>35000</td>\n",
       "      <td>0.37</td>\n",
       "      <td>N</td>\n",
       "      <td>0</td>\n",
       "    </tr>\n",
       "    <tr>\n",
       "      <th>13</th>\n",
       "      <td>26</td>\n",
       "      <td>108160</td>\n",
       "      <td>RENT</td>\n",
       "      <td>4.0</td>\n",
       "      <td>EDUCATION</td>\n",
       "      <td>35000</td>\n",
       "      <td>0.32</td>\n",
       "      <td>N</td>\n",
       "      <td>0</td>\n",
       "    </tr>\n",
       "    <tr>\n",
       "      <th>14</th>\n",
       "      <td>23</td>\n",
       "      <td>115000</td>\n",
       "      <td>RENT</td>\n",
       "      <td>2.0</td>\n",
       "      <td>EDUCATION</td>\n",
       "      <td>35000</td>\n",
       "      <td>0.30</td>\n",
       "      <td>N</td>\n",
       "      <td>0</td>\n",
       "    </tr>\n",
       "  </tbody>\n",
       "</table>\n",
       "</div>"
      ],
      "text/plain": [
       "    person_age  person_income person_home_ownership  person_emp_length  \\\n",
       "0           22          59000                  RENT              123.0   \n",
       "1           21           9600                   OWN                5.0   \n",
       "2           25           9600              MORTGAGE                1.0   \n",
       "3           23          65500                  RENT                4.0   \n",
       "4           24          54400                  RENT                8.0   \n",
       "5           21           9900                   OWN                2.0   \n",
       "6           26          77100                  RENT                8.0   \n",
       "7           24          78956                  RENT                5.0   \n",
       "8           24          83000                  RENT                8.0   \n",
       "9           21          10000                   OWN                6.0   \n",
       "10          22          85000                  RENT                6.0   \n",
       "11          21          10000                   OWN                2.0   \n",
       "12          23          95000                  RENT                2.0   \n",
       "13          26         108160                  RENT                4.0   \n",
       "14          23         115000                  RENT                2.0   \n",
       "\n",
       "        loan_intent  loan_amnt  loan_percent_income cb_person_default_on_file  \\\n",
       "0          PERSONAL      35000                 0.59                         Y   \n",
       "1         EDUCATION       1000                 0.10                         N   \n",
       "2           MEDICAL       5500                 0.57                         N   \n",
       "3           MEDICAL      35000                 0.53                         N   \n",
       "4           MEDICAL      35000                 0.55                         Y   \n",
       "5           VENTURE       2500                 0.25                         N   \n",
       "6         EDUCATION      35000                 0.45                         N   \n",
       "7           MEDICAL      35000                 0.44                         N   \n",
       "8          PERSONAL      35000                 0.42                         N   \n",
       "9           VENTURE       1600                 0.16                         N   \n",
       "10          VENTURE      35000                 0.41                         N   \n",
       "11  HOMEIMPROVEMENT       4500                 0.45                         N   \n",
       "12          VENTURE      35000                 0.37                         N   \n",
       "13        EDUCATION      35000                 0.32                         N   \n",
       "14        EDUCATION      35000                 0.30                         N   \n",
       "\n",
       "    credit  \n",
       "0        0  \n",
       "1        0  \n",
       "2        0  \n",
       "3        0  \n",
       "4        0  \n",
       "5        0  \n",
       "6        0  \n",
       "7        0  \n",
       "8        0  \n",
       "9        0  \n",
       "10       0  \n",
       "11       0  \n",
       "12       0  \n",
       "13       0  \n",
       "14       0  "
      ]
     },
     "execution_count": 13,
     "metadata": {},
     "output_type": "execute_result"
    }
   ],
   "source": [
    "# Display target 0\n",
    "dataset_credit_risk[dataset_credit_risk[\"credit\"] == 0].head(15)"
   ]
  },
  {
   "cell_type": "code",
   "execution_count": 14,
   "id": "51865dcd",
   "metadata": {},
   "outputs": [
    {
     "data": {
      "application/vnd.microsoft.datawrangler.viewer.v0+json": {
       "columns": [
        {
         "name": "credit",
         "rawType": "int64",
         "type": "integer"
        },
        {
         "name": "count",
         "rawType": "int64",
         "type": "integer"
        }
       ],
       "ref": "e8728da8-e36b-499a-956d-f13567dad974",
       "rows": [
        [
         "0",
         "19764"
        ],
        [
         "1",
         "12131"
        ]
       ],
       "shape": {
        "columns": 1,
        "rows": 2
       }
      },
      "text/plain": [
       "credit\n",
       "0    19764\n",
       "1    12131\n",
       "Name: count, dtype: int64"
      ]
     },
     "execution_count": 14,
     "metadata": {},
     "output_type": "execute_result"
    }
   ],
   "source": [
    "# count of target\n",
    "dataset_credit_risk[\"credit\"].value_counts()"
   ]
  },
  {
   "cell_type": "code",
   "execution_count": 15,
   "id": "67946208",
   "metadata": {},
   "outputs": [],
   "source": [
    "# Remove columns unnecessary\n",
    "dataset_credit_risk = dataset_credit_risk.drop(columns=[\"person_home_ownership\", \"loan_intent\", \"loan_percent_income\"])\n"
   ]
  },
  {
   "cell_type": "code",
   "execution_count": 16,
   "id": "e94b2192",
   "metadata": {},
   "outputs": [
    {
     "data": {
      "application/vnd.microsoft.datawrangler.viewer.v0+json": {
       "columns": [
        {
         "name": "index",
         "rawType": "int64",
         "type": "integer"
        },
        {
         "name": "person_age",
         "rawType": "int64",
         "type": "integer"
        },
        {
         "name": "person_income",
         "rawType": "int64",
         "type": "integer"
        },
        {
         "name": "person_emp_length",
         "rawType": "float64",
         "type": "float"
        },
        {
         "name": "loan_amnt",
         "rawType": "int64",
         "type": "integer"
        },
        {
         "name": "cb_person_default_on_file",
         "rawType": "object",
         "type": "string"
        },
        {
         "name": "credit",
         "rawType": "int64",
         "type": "integer"
        }
       ],
       "ref": "94e61893-fb0d-4cd0-928c-88b4de958436",
       "rows": [
        [
         "0",
         "22",
         "59000",
         "123.0",
         "35000",
         "Y",
         "0"
        ],
        [
         "1",
         "21",
         "9600",
         "5.0",
         "1000",
         "N",
         "0"
        ],
        [
         "2",
         "25",
         "9600",
         "1.0",
         "5500",
         "N",
         "0"
        ],
        [
         "3",
         "23",
         "65500",
         "4.0",
         "35000",
         "N",
         "0"
        ],
        [
         "4",
         "24",
         "54400",
         "8.0",
         "35000",
         "Y",
         "0"
        ],
        [
         "5",
         "21",
         "9900",
         "2.0",
         "2500",
         "N",
         "0"
        ],
        [
         "6",
         "26",
         "77100",
         "8.0",
         "35000",
         "N",
         "0"
        ],
        [
         "7",
         "24",
         "78956",
         "5.0",
         "35000",
         "N",
         "0"
        ],
        [
         "8",
         "24",
         "83000",
         "8.0",
         "35000",
         "N",
         "0"
        ],
        [
         "9",
         "21",
         "10000",
         "6.0",
         "1600",
         "N",
         "0"
        ],
        [
         "10",
         "22",
         "85000",
         "6.0",
         "35000",
         "N",
         "0"
        ],
        [
         "11",
         "21",
         "10000",
         "2.0",
         "4500",
         "N",
         "0"
        ],
        [
         "12",
         "23",
         "95000",
         "2.0",
         "35000",
         "N",
         "0"
        ],
        [
         "13",
         "26",
         "108160",
         "4.0",
         "35000",
         "N",
         "0"
        ],
        [
         "14",
         "23",
         "115000",
         "2.0",
         "35000",
         "N",
         "0"
        ]
       ],
       "shape": {
        "columns": 6,
        "rows": 15
       }
      },
      "text/html": [
       "<div>\n",
       "<style scoped>\n",
       "    .dataframe tbody tr th:only-of-type {\n",
       "        vertical-align: middle;\n",
       "    }\n",
       "\n",
       "    .dataframe tbody tr th {\n",
       "        vertical-align: top;\n",
       "    }\n",
       "\n",
       "    .dataframe thead th {\n",
       "        text-align: right;\n",
       "    }\n",
       "</style>\n",
       "<table border=\"1\" class=\"dataframe\">\n",
       "  <thead>\n",
       "    <tr style=\"text-align: right;\">\n",
       "      <th></th>\n",
       "      <th>person_age</th>\n",
       "      <th>person_income</th>\n",
       "      <th>person_emp_length</th>\n",
       "      <th>loan_amnt</th>\n",
       "      <th>cb_person_default_on_file</th>\n",
       "      <th>credit</th>\n",
       "    </tr>\n",
       "  </thead>\n",
       "  <tbody>\n",
       "    <tr>\n",
       "      <th>0</th>\n",
       "      <td>22</td>\n",
       "      <td>59000</td>\n",
       "      <td>123.0</td>\n",
       "      <td>35000</td>\n",
       "      <td>Y</td>\n",
       "      <td>0</td>\n",
       "    </tr>\n",
       "    <tr>\n",
       "      <th>1</th>\n",
       "      <td>21</td>\n",
       "      <td>9600</td>\n",
       "      <td>5.0</td>\n",
       "      <td>1000</td>\n",
       "      <td>N</td>\n",
       "      <td>0</td>\n",
       "    </tr>\n",
       "    <tr>\n",
       "      <th>2</th>\n",
       "      <td>25</td>\n",
       "      <td>9600</td>\n",
       "      <td>1.0</td>\n",
       "      <td>5500</td>\n",
       "      <td>N</td>\n",
       "      <td>0</td>\n",
       "    </tr>\n",
       "    <tr>\n",
       "      <th>3</th>\n",
       "      <td>23</td>\n",
       "      <td>65500</td>\n",
       "      <td>4.0</td>\n",
       "      <td>35000</td>\n",
       "      <td>N</td>\n",
       "      <td>0</td>\n",
       "    </tr>\n",
       "    <tr>\n",
       "      <th>4</th>\n",
       "      <td>24</td>\n",
       "      <td>54400</td>\n",
       "      <td>8.0</td>\n",
       "      <td>35000</td>\n",
       "      <td>Y</td>\n",
       "      <td>0</td>\n",
       "    </tr>\n",
       "    <tr>\n",
       "      <th>5</th>\n",
       "      <td>21</td>\n",
       "      <td>9900</td>\n",
       "      <td>2.0</td>\n",
       "      <td>2500</td>\n",
       "      <td>N</td>\n",
       "      <td>0</td>\n",
       "    </tr>\n",
       "    <tr>\n",
       "      <th>6</th>\n",
       "      <td>26</td>\n",
       "      <td>77100</td>\n",
       "      <td>8.0</td>\n",
       "      <td>35000</td>\n",
       "      <td>N</td>\n",
       "      <td>0</td>\n",
       "    </tr>\n",
       "    <tr>\n",
       "      <th>7</th>\n",
       "      <td>24</td>\n",
       "      <td>78956</td>\n",
       "      <td>5.0</td>\n",
       "      <td>35000</td>\n",
       "      <td>N</td>\n",
       "      <td>0</td>\n",
       "    </tr>\n",
       "    <tr>\n",
       "      <th>8</th>\n",
       "      <td>24</td>\n",
       "      <td>83000</td>\n",
       "      <td>8.0</td>\n",
       "      <td>35000</td>\n",
       "      <td>N</td>\n",
       "      <td>0</td>\n",
       "    </tr>\n",
       "    <tr>\n",
       "      <th>9</th>\n",
       "      <td>21</td>\n",
       "      <td>10000</td>\n",
       "      <td>6.0</td>\n",
       "      <td>1600</td>\n",
       "      <td>N</td>\n",
       "      <td>0</td>\n",
       "    </tr>\n",
       "    <tr>\n",
       "      <th>10</th>\n",
       "      <td>22</td>\n",
       "      <td>85000</td>\n",
       "      <td>6.0</td>\n",
       "      <td>35000</td>\n",
       "      <td>N</td>\n",
       "      <td>0</td>\n",
       "    </tr>\n",
       "    <tr>\n",
       "      <th>11</th>\n",
       "      <td>21</td>\n",
       "      <td>10000</td>\n",
       "      <td>2.0</td>\n",
       "      <td>4500</td>\n",
       "      <td>N</td>\n",
       "      <td>0</td>\n",
       "    </tr>\n",
       "    <tr>\n",
       "      <th>12</th>\n",
       "      <td>23</td>\n",
       "      <td>95000</td>\n",
       "      <td>2.0</td>\n",
       "      <td>35000</td>\n",
       "      <td>N</td>\n",
       "      <td>0</td>\n",
       "    </tr>\n",
       "    <tr>\n",
       "      <th>13</th>\n",
       "      <td>26</td>\n",
       "      <td>108160</td>\n",
       "      <td>4.0</td>\n",
       "      <td>35000</td>\n",
       "      <td>N</td>\n",
       "      <td>0</td>\n",
       "    </tr>\n",
       "    <tr>\n",
       "      <th>14</th>\n",
       "      <td>23</td>\n",
       "      <td>115000</td>\n",
       "      <td>2.0</td>\n",
       "      <td>35000</td>\n",
       "      <td>N</td>\n",
       "      <td>0</td>\n",
       "    </tr>\n",
       "  </tbody>\n",
       "</table>\n",
       "</div>"
      ],
      "text/plain": [
       "    person_age  person_income  person_emp_length  loan_amnt  \\\n",
       "0           22          59000              123.0      35000   \n",
       "1           21           9600                5.0       1000   \n",
       "2           25           9600                1.0       5500   \n",
       "3           23          65500                4.0      35000   \n",
       "4           24          54400                8.0      35000   \n",
       "5           21           9900                2.0       2500   \n",
       "6           26          77100                8.0      35000   \n",
       "7           24          78956                5.0      35000   \n",
       "8           24          83000                8.0      35000   \n",
       "9           21          10000                6.0       1600   \n",
       "10          22          85000                6.0      35000   \n",
       "11          21          10000                2.0       4500   \n",
       "12          23          95000                2.0      35000   \n",
       "13          26         108160                4.0      35000   \n",
       "14          23         115000                2.0      35000   \n",
       "\n",
       "   cb_person_default_on_file  credit  \n",
       "0                          Y       0  \n",
       "1                          N       0  \n",
       "2                          N       0  \n",
       "3                          N       0  \n",
       "4                          Y       0  \n",
       "5                          N       0  \n",
       "6                          N       0  \n",
       "7                          N       0  \n",
       "8                          N       0  \n",
       "9                          N       0  \n",
       "10                         N       0  \n",
       "11                         N       0  \n",
       "12                         N       0  \n",
       "13                         N       0  \n",
       "14                         N       0  "
      ]
     },
     "execution_count": 16,
     "metadata": {},
     "output_type": "execute_result"
    }
   ],
   "source": [
    "# Display\n",
    "dataset_credit_risk.head(15)"
   ]
  },
  {
   "cell_type": "code",
   "execution_count": 17,
   "id": "2cb211e7",
   "metadata": {},
   "outputs": [
    {
     "name": "stdout",
     "output_type": "stream",
     "text": [
      "<class 'pandas.core.frame.DataFrame'>\n",
      "Index: 31895 entries, 0 to 32578\n",
      "Data columns (total 6 columns):\n",
      " #   Column                     Non-Null Count  Dtype  \n",
      "---  ------                     --------------  -----  \n",
      " 0   person_age                 31895 non-null  int64  \n",
      " 1   person_income              31895 non-null  int64  \n",
      " 2   person_emp_length          31020 non-null  float64\n",
      " 3   loan_amnt                  31895 non-null  int64  \n",
      " 4   cb_person_default_on_file  31895 non-null  int64  \n",
      " 5   credit                     31895 non-null  int64  \n",
      "dtypes: float64(1), int64(5)\n",
      "memory usage: 1.7 MB\n"
     ]
    }
   ],
   "source": [
    "# Converter columns object to int (step encoding)\n",
    "label_encoder = LabelEncoder()\n",
    "dataset_credit_risk[\"cb_person_default_on_file\"] = label_encoder.fit_transform(dataset_credit_risk[\"cb_person_default_on_file\"])\n",
    "\n",
    "dataset_credit_risk.info()"
   ]
  },
  {
   "cell_type": "code",
   "execution_count": 18,
   "id": "289714a8",
   "metadata": {},
   "outputs": [
    {
     "data": {
      "application/vnd.microsoft.datawrangler.viewer.v0+json": {
       "columns": [
        {
         "name": "cb_person_default_on_file",
         "rawType": "int64",
         "type": "integer"
        },
        {
         "name": "count",
         "rawType": "int64",
         "type": "integer"
        }
       ],
       "ref": "257939a3-051d-4914-b318-1a0bfac3deca",
       "rows": [
        [
         "0",
         "26209"
        ],
        [
         "1",
         "5686"
        ]
       ],
       "shape": {
        "columns": 1,
        "rows": 2
       }
      },
      "text/plain": [
       "cb_person_default_on_file\n",
       "0    26209\n",
       "1     5686\n",
       "Name: count, dtype: int64"
      ]
     },
     "execution_count": 18,
     "metadata": {},
     "output_type": "execute_result"
    }
   ],
   "source": [
    "# Display dataset\n",
    "dataset_credit_risk[\"cb_person_default_on_file\"].value_counts()"
   ]
  },
  {
   "cell_type": "code",
   "execution_count": 19,
   "id": "0bccdf5a",
   "metadata": {},
   "outputs": [
    {
     "data": {
      "application/vnd.microsoft.datawrangler.viewer.v0+json": {
       "columns": [
        {
         "name": "index",
         "rawType": "int64",
         "type": "integer"
        },
        {
         "name": "person_age",
         "rawType": "int64",
         "type": "integer"
        },
        {
         "name": "person_income",
         "rawType": "int64",
         "type": "integer"
        },
        {
         "name": "person_emp_length",
         "rawType": "float64",
         "type": "float"
        },
        {
         "name": "loan_amnt",
         "rawType": "int64",
         "type": "integer"
        },
        {
         "name": "cb_person_default_on_file",
         "rawType": "int64",
         "type": "integer"
        }
       ],
       "ref": "97b3acac-4d9f-4750-9ac0-c5e021789d79",
       "rows": [
        [
         "0",
         "22",
         "59000",
         "123.0",
         "35000",
         "1"
        ],
        [
         "1",
         "21",
         "9600",
         "5.0",
         "1000",
         "0"
        ],
        [
         "2",
         "25",
         "9600",
         "1.0",
         "5500",
         "0"
        ],
        [
         "3",
         "23",
         "65500",
         "4.0",
         "35000",
         "0"
        ],
        [
         "4",
         "24",
         "54400",
         "8.0",
         "35000",
         "1"
        ]
       ],
       "shape": {
        "columns": 5,
        "rows": 5
       }
      },
      "text/html": [
       "<div>\n",
       "<style scoped>\n",
       "    .dataframe tbody tr th:only-of-type {\n",
       "        vertical-align: middle;\n",
       "    }\n",
       "\n",
       "    .dataframe tbody tr th {\n",
       "        vertical-align: top;\n",
       "    }\n",
       "\n",
       "    .dataframe thead th {\n",
       "        text-align: right;\n",
       "    }\n",
       "</style>\n",
       "<table border=\"1\" class=\"dataframe\">\n",
       "  <thead>\n",
       "    <tr style=\"text-align: right;\">\n",
       "      <th></th>\n",
       "      <th>person_age</th>\n",
       "      <th>person_income</th>\n",
       "      <th>person_emp_length</th>\n",
       "      <th>loan_amnt</th>\n",
       "      <th>cb_person_default_on_file</th>\n",
       "    </tr>\n",
       "  </thead>\n",
       "  <tbody>\n",
       "    <tr>\n",
       "      <th>0</th>\n",
       "      <td>22</td>\n",
       "      <td>59000</td>\n",
       "      <td>123.0</td>\n",
       "      <td>35000</td>\n",
       "      <td>1</td>\n",
       "    </tr>\n",
       "    <tr>\n",
       "      <th>1</th>\n",
       "      <td>21</td>\n",
       "      <td>9600</td>\n",
       "      <td>5.0</td>\n",
       "      <td>1000</td>\n",
       "      <td>0</td>\n",
       "    </tr>\n",
       "    <tr>\n",
       "      <th>2</th>\n",
       "      <td>25</td>\n",
       "      <td>9600</td>\n",
       "      <td>1.0</td>\n",
       "      <td>5500</td>\n",
       "      <td>0</td>\n",
       "    </tr>\n",
       "    <tr>\n",
       "      <th>3</th>\n",
       "      <td>23</td>\n",
       "      <td>65500</td>\n",
       "      <td>4.0</td>\n",
       "      <td>35000</td>\n",
       "      <td>0</td>\n",
       "    </tr>\n",
       "    <tr>\n",
       "      <th>4</th>\n",
       "      <td>24</td>\n",
       "      <td>54400</td>\n",
       "      <td>8.0</td>\n",
       "      <td>35000</td>\n",
       "      <td>1</td>\n",
       "    </tr>\n",
       "  </tbody>\n",
       "</table>\n",
       "</div>"
      ],
      "text/plain": [
       "   person_age  person_income  person_emp_length  loan_amnt  \\\n",
       "0          22          59000              123.0      35000   \n",
       "1          21           9600                5.0       1000   \n",
       "2          25           9600                1.0       5500   \n",
       "3          23          65500                4.0      35000   \n",
       "4          24          54400                8.0      35000   \n",
       "\n",
       "   cb_person_default_on_file  \n",
       "0                          1  \n",
       "1                          0  \n",
       "2                          0  \n",
       "3                          0  \n",
       "4                          1  "
      ]
     },
     "execution_count": 19,
     "metadata": {},
     "output_type": "execute_result"
    }
   ],
   "source": [
    "# Separating the dataset features (X)\n",
    "dataset_credit_risk_x = dataset_credit_risk[[\"person_age\", \"person_income\", \"person_emp_length\",\n",
    "    \"loan_amnt\", \"cb_person_default_on_file\"]]\n",
    "\n",
    "# Display dataset\n",
    "dataset_credit_risk_x.head()"
   ]
  },
  {
   "cell_type": "code",
   "execution_count": 20,
   "id": "b85a2387",
   "metadata": {},
   "outputs": [
    {
     "data": {
      "text/plain": [
       "list"
      ]
     },
     "execution_count": 20,
     "metadata": {},
     "output_type": "execute_result"
    }
   ],
   "source": [
    "# Separating the dataset target (y)\n",
    "dataset_credit_risk_y = dataset_credit_risk[\"credit\"].values.tolist()\n",
    "type(dataset_credit_risk_y)"
   ]
  },
  {
   "cell_type": "code",
   "execution_count": 21,
   "id": "2cc7054f",
   "metadata": {},
   "outputs": [
    {
     "data": {
      "text/plain": [
       "[0, 0, 0, 0, 0, 0, 0, 0, 0, 0, 0, 0, 0, 0, 0]"
      ]
     },
     "execution_count": 21,
     "metadata": {},
     "output_type": "execute_result"
    }
   ],
   "source": [
    "# Display\n",
    "dataset_credit_risk_y[0:15]"
   ]
  },
  {
   "cell_type": "code",
   "execution_count": 22,
   "id": "b6531442",
   "metadata": {},
   "outputs": [],
   "source": [
    "x_train, x_test, y_train, y_test = train_test_split(dataset_credit_risk_x, dataset_credit_risk_y, test_size=0.3)"
   ]
  },
  {
   "cell_type": "markdown",
   "id": "abc1dc38",
   "metadata": {},
   "source": [
    "# Modelo Random forest classifier"
   ]
  },
  {
   "cell_type": "code",
   "execution_count": 23,
   "id": "11e70800",
   "metadata": {},
   "outputs": [],
   "source": [
    "# Model\n",
    "model_RF = RandomForestClassifier(n_estimators=1000)"
   ]
  },
  {
   "cell_type": "code",
   "execution_count": 24,
   "id": "e8cebf5f",
   "metadata": {},
   "outputs": [
    {
     "name": "stdout",
     "output_type": "stream",
     "text": [
      "RandomForestClassifier(n_estimators=1000)\n"
     ]
    }
   ],
   "source": [
    "# Train the model\n",
    "model_RF = model_RF.fit(x_train, y_train)\n",
    "print(model_RF)\n"
   ]
  },
  {
   "cell_type": "markdown",
   "id": "0dfb6e6b",
   "metadata": {},
   "source": [
    "# Metrificando o Modelo"
   ]
  },
  {
   "cell_type": "code",
   "execution_count": 25,
   "id": "d247c324",
   "metadata": {},
   "outputs": [
    {
     "name": "stdout",
     "output_type": "stream",
     "text": [
      "Acurácia de Random Forest: 99.8954958721\n"
     ]
    }
   ],
   "source": [
    "# Accuracy score\n",
    "accuracy_score_RF = model_RF.score(x_test, y_test)\n",
    "accuracy_score_RF = float(accuracy_score_RF)\n",
    "print(\"Acurácia de Random Forest:\", round(accuracy_score_RF * 100,10))"
   ]
  },
  {
   "cell_type": "code",
   "execution_count": 26,
   "id": "5c90898e",
   "metadata": {},
   "outputs": [
    {
     "name": "stdout",
     "output_type": "stream",
     "text": [
      "[[5950    7]\n",
      " [   3 3609]]\n"
     ]
    }
   ],
   "source": [
    "# Analyze confusion matrix and classification report\n",
    "mod_RF = model_RF.predict(x_test)\n",
    "cm_RF = confusion_matrix(y_test, mod_RF)\n",
    "print(cm_RF)\n",
    "cr_RM = classification_report( y_test, mod_RF,output_dict=True)"
   ]
  },
  {
   "cell_type": "code",
   "execution_count": 27,
   "id": "1483b5f1",
   "metadata": {},
   "outputs": [
    {
     "data": {
      "application/vnd.microsoft.datawrangler.viewer.v0+json": {
       "columns": [
        {
         "name": "index",
         "rawType": "object",
         "type": "string"
        },
        {
         "name": "0",
         "rawType": "float64",
         "type": "float"
        },
        {
         "name": "1",
         "rawType": "float64",
         "type": "float"
        },
        {
         "name": "accuracy",
         "rawType": "float64",
         "type": "float"
        }
       ],
       "ref": "688dc6ed-4ce2-4541-961a-fca97756ce7f",
       "rows": [
        [
         "precision",
         "0.9994960524105493",
         "0.9980641592920354",
         "0.9989549587208695"
        ],
        [
         "recall",
         "0.9988249118683902",
         "0.9991694352159468",
         "0.9989549587208695"
        ],
        [
         "f1-score",
         "0.9991603694374476",
         "0.9986164914222468",
         "0.9989549587208695"
        ],
        [
         "support",
         "5957.0",
         "3612.0",
         "0.9989549587208695"
        ]
       ],
       "shape": {
        "columns": 3,
        "rows": 4
       }
      },
      "text/html": [
       "<div>\n",
       "<style scoped>\n",
       "    .dataframe tbody tr th:only-of-type {\n",
       "        vertical-align: middle;\n",
       "    }\n",
       "\n",
       "    .dataframe tbody tr th {\n",
       "        vertical-align: top;\n",
       "    }\n",
       "\n",
       "    .dataframe thead th {\n",
       "        text-align: right;\n",
       "    }\n",
       "</style>\n",
       "<table border=\"1\" class=\"dataframe\">\n",
       "  <thead>\n",
       "    <tr style=\"text-align: right;\">\n",
       "      <th></th>\n",
       "      <th>0</th>\n",
       "      <th>1</th>\n",
       "      <th>accuracy</th>\n",
       "    </tr>\n",
       "  </thead>\n",
       "  <tbody>\n",
       "    <tr>\n",
       "      <th>precision</th>\n",
       "      <td>0.999496</td>\n",
       "      <td>0.998064</td>\n",
       "      <td>0.998955</td>\n",
       "    </tr>\n",
       "    <tr>\n",
       "      <th>recall</th>\n",
       "      <td>0.998825</td>\n",
       "      <td>0.999169</td>\n",
       "      <td>0.998955</td>\n",
       "    </tr>\n",
       "    <tr>\n",
       "      <th>f1-score</th>\n",
       "      <td>0.999160</td>\n",
       "      <td>0.998616</td>\n",
       "      <td>0.998955</td>\n",
       "    </tr>\n",
       "    <tr>\n",
       "      <th>support</th>\n",
       "      <td>5957.000000</td>\n",
       "      <td>3612.000000</td>\n",
       "      <td>0.998955</td>\n",
       "    </tr>\n",
       "  </tbody>\n",
       "</table>\n",
       "</div>"
      ],
      "text/plain": [
       "                     0            1  accuracy\n",
       "precision     0.999496     0.998064  0.998955\n",
       "recall        0.998825     0.999169  0.998955\n",
       "f1-score      0.999160     0.998616  0.998955\n",
       "support    5957.000000  3612.000000  0.998955"
      ]
     },
     "execution_count": 27,
     "metadata": {},
     "output_type": "execute_result"
    }
   ],
   "source": [
    "df_result_RF = pd.DataFrame(cr_RM) \n",
    "df_result_RF = df_result_RF.drop(columns=['macro avg', 'weighted avg'])\n",
    "df_result_RF"
   ]
  },
  {
   "cell_type": "markdown",
   "id": "cef132f7",
   "metadata": {},
   "source": [
    "# Predict test"
   ]
  },
  {
   "cell_type": "code",
   "execution_count": null,
   "id": "dc3f86a0",
   "metadata": {},
   "outputs": [
    {
     "name": "stdout",
     "output_type": "stream",
     "text": [
      "Aproved credit: No\n"
     ]
    }
   ],
   "source": [
    "# example of dataset for prediction\n",
    "dataset = pd.DataFrame({\n",
    "    \"person_age\": [40],\n",
    "    \"person_income\": [50000],\n",
    "    \"person_emp_length\": [2],\n",
    "    \"loan_amnt\": [10000],\n",
    "    \"cb_person_default_on_file\": [1]  # 0 para 'N', 1 para 'Y'\n",
    "})\n",
    "\n",
    "# Prediction\n",
    "predict = model_RF.predict(dataset)\n",
    "print(\"Aproved credit:\", \"Yes\" if predict[0] == 1 else \"No\")"
   ]
  },
  {
   "cell_type": "markdown",
   "id": "fa75b2c5",
   "metadata": {},
   "source": [
    "# Export Model"
   ]
  },
  {
   "cell_type": "code",
   "execution_count": null,
   "id": "81c34ebc",
   "metadata": {},
   "outputs": [
    {
     "data": {
      "text/plain": [
       "['/Users/leonardojdss/Desktop/projetos/GenAI-Machine-Learning-MCP/pipeline-machine-learning/model/model_credit_risk.pkl']"
      ]
     },
     "execution_count": 29,
     "metadata": {},
     "output_type": "execute_result"
    }
   ],
   "source": [
    "# Path relative to the current working directory\n",
    "actual_path = os.getcwd()\n",
    "previous_path = os.path.dirname(actual_path)\n",
    "\n",
    "# export the model\n",
    "joblib.dump(model_RF, f\"{previous_path}/model/model_credit_risk.pkl\")"
   ]
  },
  {
   "cell_type": "code",
   "execution_count": null,
   "id": "25e833cf",
   "metadata": {},
   "outputs": [],
   "source": []
  },
  {
   "cell_type": "code",
   "execution_count": null,
   "id": "1c9efba2",
   "metadata": {},
   "outputs": [],
   "source": []
  },
  {
   "cell_type": "code",
   "execution_count": null,
   "id": "4fdfdff6",
   "metadata": {},
   "outputs": [],
   "source": []
  },
  {
   "cell_type": "code",
   "execution_count": null,
   "id": "531a3fd9",
   "metadata": {},
   "outputs": [],
   "source": []
  },
  {
   "cell_type": "code",
   "execution_count": null,
   "id": "c41b2193",
   "metadata": {},
   "outputs": [],
   "source": []
  },
  {
   "cell_type": "code",
   "execution_count": null,
   "id": "acd134ce",
   "metadata": {},
   "outputs": [],
   "source": []
  },
  {
   "cell_type": "code",
   "execution_count": null,
   "id": "8515a911",
   "metadata": {},
   "outputs": [],
   "source": []
  },
  {
   "cell_type": "code",
   "execution_count": null,
   "id": "44be9702",
   "metadata": {},
   "outputs": [],
   "source": []
  },
  {
   "cell_type": "code",
   "execution_count": null,
   "id": "e7baa28c",
   "metadata": {},
   "outputs": [],
   "source": []
  },
  {
   "cell_type": "code",
   "execution_count": null,
   "id": "267c347f",
   "metadata": {},
   "outputs": [],
   "source": []
  },
  {
   "cell_type": "code",
   "execution_count": null,
   "id": "d7ca1b5e",
   "metadata": {},
   "outputs": [],
   "source": []
  },
  {
   "cell_type": "code",
   "execution_count": null,
   "id": "e2462a58",
   "metadata": {},
   "outputs": [],
   "source": []
  }
 ],
 "metadata": {
  "kernelspec": {
   "display_name": ".venv",
   "language": "python",
   "name": "python3"
  },
  "language_info": {
   "codemirror_mode": {
    "name": "ipython",
    "version": 3
   },
   "file_extension": ".py",
   "mimetype": "text/x-python",
   "name": "python",
   "nbconvert_exporter": "python",
   "pygments_lexer": "ipython3",
   "version": "3.9.6"
  }
 },
 "nbformat": 4,
 "nbformat_minor": 5
}
